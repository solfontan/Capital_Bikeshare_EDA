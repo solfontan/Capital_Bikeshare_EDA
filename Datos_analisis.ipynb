{
 "cells": [
  {
   "cell_type": "markdown",
   "metadata": {},
   "source": [
    "# Bike Sharing System 2011"
   ]
  },
  {
   "cell_type": "markdown",
   "metadata": {},
   "source": [
    "> #### Hipótesis\n",
    "**La hipótesis principal de este proyecto es que la estación del año tiene un \n",
    "impacto en la cantidad de viajes en bicicleta. Específicamente, \n",
    "se espera que el uso de bicicletas varíe de manera estacional, con picos durante las \n",
    "estaciones más cálidas y una disminución en las estaciones más frías.**\n",
    " "
   ]
  },
  {
   "cell_type": "markdown",
   "metadata": {},
   "source": [
    "Utilización Estacional:\n",
    "- ¿Cómo varía la frecuencia de uso de las bicicletas a lo largo de las estaciones del año?\n",
    "- ¿Hay alguna estación en la que se observa un aumento o disminución significativa en el uso de bicicletas?\n",
    "\n",
    "Diferencias entre Estaciones:\n",
    "- ¿Existen patrones de uso de bicicletas distintos entre estaciones para clientes casuales y registrados?\n",
    "\n",
    "Preferencias Estacionales:\n",
    "- ¿Hay estaciones específicas del año en las que los clientes casuales tienden a usar más bicicletas que los registrados, o viceversa?\n",
    "\n",
    "Patrones Diarios:\n",
    "- ¿Cómo se distribuye el uso de bicicletas a lo largo del día en diferentes estaciones del año?\n",
    "- ¿Existen horas pico o valle que difieran entre estaciones?\n",
    "\n",
    "Impacto del Clima:\n",
    "- ¿El clima en cada estación del año afecta la utilización de bicicletas de manera significativa?\n",
    "- ¿Puedes identificar alguna tendencia en la relación entre las condiciones climáticas y la elección de bicicletas por parte de los clientes?"
   ]
  },
  {
   "cell_type": "markdown",
   "metadata": {},
   "source": [
    "\n",
    "*****\n",
    "\n",
    "1. **instant**: índice del registro.\n",
    "   - Este campo simplemente contiene un número de índice que identifica cada registro en el conjunto de datos.\n",
    "\n",
    "2. **dteday**: fecha.\n",
    "   - Este campo almacena la fecha en la que se registró la información.\n",
    "\n",
    "3. **season**: estación (1: invierno, 2: primavera, 3: verano, 4: otoño).\n",
    "   -  Indica la estación del año en la que se registraron los datos, con valores numéricos que corresponden a las estaciones.\n",
    "\n",
    "4. **yr**: año (0: 2011, 1: 2012).\n",
    "   - Representa el año en el que se registraron los datos, donde \"0\" se refiere a 2011 y \"1\" a 2012.\n",
    "\n",
    "5. **mnth**: mes (1 a 12).\n",
    "   - Indica el mes en el que se registraron los datos, con valores numéricos del 1 al 12 correspondientes a los meses.\n",
    "\n",
    "6. **hr**: hora (0 a 23).\n",
    "   - Muestra la hora del día en la que se registraron los datos, en formato de 24 horas (0 a 23).\n",
    "\n",
    "7. **holiday**: día festivo (si el día es festivo o no).\n",
    "   - Indica si el día en cuestión es un día festivo (\"1\" si lo es y \"0\" si no lo es). La información se extrae de un calendario de festivos.\n",
    "\n",
    "8. **weekday**: día de la semana (1 a 7).\n",
    "   - Representa el día de la semana en el que se registraron los datos.\n",
    "\n",
    "9. **workingday**: si el día es laborable (1 si el día no es fin de semana ni festivo, de lo contrario 0).\n",
    "   - Indica si el día es laborable (día hábil) con un valor de \"1\" si no es un fin de semana ni un día festivo, y \"0\" en caso contrario.\n",
    "\n",
    "10. **weathersit**: situación meteorológica.\n",
    "    - Describe la situación meteorológica en el momento de la observación, con valores numéricos que representan diferentes condiciones climáticas.\n",
    "\n",
    "    1. Despejado, Pocas nubes:\n",
    "\n",
    "      - Indica condiciones meteorológicas en las que el cielo está despejado o parcialmente nublado, con pocas nubes visibles.\n",
    "\n",
    "    2. Niebla + Pocas nubes, Niebla:\n",
    "\n",
    "      - Hace referencia a condiciones de niebla o bruma en combinación con nubes o cielo nublado.\n",
    "\n",
    "    3. Lluvia ligera, Tormenta + Nubes dispersas:\n",
    "\n",
    "      - Representa condiciones de lluvia ligera junto con la presencia de tormentas o nubes dispersas en el cielo.\n",
    "\n",
    "    4. Lluvia intensa + Granizo + Tormenta:\n",
    "\n",
    "      - Indica condiciones meteorológicas adversas, como lluvia intensa, granizo, tormenta, niebla o nevada con visibilidad reducida debido a la niebla.\n",
    "\n",
    "11. **temp**: temperatura normalizada en Celsius.\n",
    "    - La temperatura se encuentra normalizada y se expresa en grados Celsius. Los valores se han ajustado y se dividen entre 41, donde 41 es la temperatura máxima posible.\n",
    "\n",
    "12. **atemp**: sensación térmica normalizada en Celsius.\n",
    "    - Al igual que la temperatura, la sensación térmica se encuentra normalizada y se expresa en grados Celsius. Los valores se han ajustado y se dividen entre 50, donde 50 es la sensación térmica máxima posible.\n",
    "\n",
    "13. **hum**: humedad normalizada.\n",
    "    - La humedad se encuentra normalizada y los valores se dividen entre 100, donde 100 representa la humedad máxima posible.\n",
    "\n",
    "14. **windspeed**: velocidad del viento normalizada.\n",
    "    - La velocidad del viento se encuentra normalizada y los valores se dividen entre 67, donde 67 es la velocidad máxima posible del viento.\n",
    "\n",
    "15. **casual**: conteo de usuarios casuales.\n",
    "    - Muestra la cantidad de usuarios que alquilaron bicicletas de forma casual.\n",
    "\n",
    "16. **registered**: conteo de usuarios registrados.\n",
    "    - Indica la cantidad de usuarios que están registrados en el sistema y alquilaron bicicletas.\n",
    "\n",
    "17. **cnt**: conteo total de bicicletas alquiladas, incluyendo usuarios casuales y registrados.\n",
    "    - Representa el total de bicicletas alquiladas en un período determinado, incluyendo tanto a usuarios casuales como a usuarios registrados.\n",
    "\n",
    "\n",
    "*****\n"
   ]
  },
  {
   "cell_type": "markdown",
   "metadata": {},
   "source": [
    "Importamos librerías"
   ]
  },
  {
   "cell_type": "code",
   "execution_count": null,
   "metadata": {},
   "outputs": [],
   "source": [
    "import numpy as np\n",
    "import pandas as pd\n",
    "import matplotlib.pyplot as plt\n",
    "import seaborn as sns"
   ]
  },
  {
   "cell_type": "markdown",
   "metadata": {},
   "source": [
    "Cargamos Datos Crudos"
   ]
  },
  {
   "cell_type": "code",
   "execution_count": null,
   "metadata": {},
   "outputs": [],
   "source": [
    "df = pd.read_csv('./bike+sharing+dataset/hour.csv')\n",
    "df.head()"
   ]
  },
  {
   "cell_type": "code",
   "execution_count": null,
   "metadata": {},
   "outputs": [],
   "source": [
    "df.shape"
   ]
  },
  {
   "cell_type": "markdown",
   "metadata": {},
   "source": [
    "Como solo voy a trabajar con un año para mi hipótesis. Elegí el 2011."
   ]
  },
  {
   "cell_type": "code",
   "execution_count": null,
   "metadata": {},
   "outputs": [],
   "source": [
    "df2011 = df.query('yr == 0')\n",
    "df2011.head()"
   ]
  },
  {
   "cell_type": "code",
   "execution_count": null,
   "metadata": {},
   "outputs": [],
   "source": [
    "df2011.shape"
   ]
  },
  {
   "cell_type": "code",
   "execution_count": null,
   "metadata": {},
   "outputs": [],
   "source": [
    "df2011.to_csv('Dataset_2011.csv') "
   ]
  },
  {
   "cell_type": "code",
   "execution_count": null,
   "metadata": {},
   "outputs": [],
   "source": [
    "df2012 = df.query('yr == 1')\n",
    "df2012.to_csv('Dataset_2012.csv')"
   ]
  },
  {
   "cell_type": "code",
   "execution_count": null,
   "metadata": {},
   "outputs": [],
   "source": [
    "df2011 = pd.read_csv('Dataset_2011.csv', sep=',', index_col='instant')\n",
    "df2011.head()"
   ]
  },
  {
   "cell_type": "code",
   "execution_count": null,
   "metadata": {},
   "outputs": [],
   "source": [
    "print(df2011.shape)"
   ]
  },
  {
   "cell_type": "code",
   "execution_count": null,
   "metadata": {},
   "outputs": [],
   "source": [
    "df2011.drop(columns=['Unnamed: 0','yr'],inplace=True) \n",
    "df2011.head()"
   ]
  },
  {
   "cell_type": "markdown",
   "metadata": {},
   "source": [
    "- La instancia la tomaré como índice que comienza desde el 1. El unhamed, era lo mismo pero desde 0, prefiero trabajar con uno solo de ellos.\n",
    "- Eliminamos la variable 'yr' ya que representaba el 2011 en valores = 0."
   ]
  },
  {
   "cell_type": "code",
   "execution_count": null,
   "metadata": {},
   "outputs": [],
   "source": [
    "#Por cada día deberíamos de tener 0 - 23 registros. Ya que la base de datos es en base a la hora.Eso no ocurre\n",
    "df2011.query(\"dteday == '2011-01-01'\")"
   ]
  },
  {
   "cell_type": "code",
   "execution_count": null,
   "metadata": {},
   "outputs": [],
   "source": [
    "df2011.shape #Tengo datos faltantes = 365 * 24 = 8760"
   ]
  },
  {
   "cell_type": "markdown",
   "metadata": {},
   "source": [
    "- Cargamos el DataFrame de 2011, luego de guardarlo en un archivo .CSV. \n",
    "- Ahora analizaremos los tipos de datos, si se encuentran valores nulos como duplicados y trataremos con ellos para después de la limpieza comenzar a responder nuestra hipótesis."
   ]
  },
  {
   "cell_type": "code",
   "execution_count": null,
   "metadata": {},
   "outputs": [],
   "source": [
    "df2011.info()"
   ]
  },
  {
   "cell_type": "code",
   "execution_count": null,
   "metadata": {},
   "outputs": [],
   "source": [
    "df2011.columns"
   ]
  },
  {
   "cell_type": "code",
   "execution_count": null,
   "metadata": {},
   "outputs": [],
   "source": [
    "df2011.describe()"
   ]
  },
  {
   "cell_type": "markdown",
   "metadata": {},
   "source": [
    "- Season: Podemos ver que la temporada de verano abarca la media y el 75%.\n",
    "- temp, atemp, hum: Los valores normalizados no son tan visibles al momento de tratar o mismo gráficar aquellos datos.\n",
    "- casual, registered, cnt : Los valores máximos se encuentran alejados bastante."
   ]
  },
  {
   "cell_type": "code",
   "execution_count": null,
   "metadata": {},
   "outputs": [],
   "source": [
    "df2011.isnull().sum()"
   ]
  },
  {
   "cell_type": "code",
   "execution_count": null,
   "metadata": {},
   "outputs": [],
   "source": [
    "df2011.duplicated(keep=False).sum()"
   ]
  },
  {
   "cell_type": "code",
   "execution_count": null,
   "metadata": {},
   "outputs": [],
   "source": [
    "df2011['dteday'].nunique()"
   ]
  },
  {
   "cell_type": "code",
   "execution_count": null,
   "metadata": {},
   "outputs": [],
   "source": [
    "df_hour = df2011.groupby(['dteday','mnth'])[['hr']].count()"
   ]
  },
  {
   "cell_type": "code",
   "execution_count": null,
   "metadata": {},
   "outputs": [],
   "source": [
    "df_hour.query('hr <= 23').sort_values(by='mnth')"
   ]
  },
  {
   "cell_type": "markdown",
   "metadata": {},
   "source": [
    "**Podemos observar que faltan datos, ya que en esas horas no hubo ningún registro. Por ende, no figura en el DataFrame**"
   ]
  },
  {
   "cell_type": "markdown",
   "metadata": {},
   "source": [
    "\n",
    "*****\n",
    "\n",
    "- **temp**: Temperatura normalizada en Celsius. Los valores se han ajustado y se dividen entre 41, donde 41 es la temperatura máxima posible.\n",
    "\n",
    "- **atemp**: Sensación térmica normalizada en Celsius. Los valores se han ajustado y se dividen entre 50, donde 50 es la sensación térmica máxima posible.\n",
    "\n",
    "- **hum**: La humedad se encuentra normalizada y los valores se dividen entre 100, donde 100 representa la humedad máxima posible.\n",
    "\n",
    "- **windspeed**: La velocidad del viento se encuentra normalizada y los valores se dividen entre 67, donde 67 es la velocidad máxima posible del viento.\n",
    "\n",
    "*Aplicamos la fórmula ajustada:*\n",
    "\n",
    "Temperatura Discreta = 0.24 × 41\n",
    "\n",
    "*Calculamos el resultado:*\n",
    "\n",
    "Temperatura Discreta = round(9.84)\n",
    "\n",
    "Temperatura Discreta =10"
   ]
  },
  {
   "cell_type": "code",
   "execution_count": null,
   "metadata": {},
   "outputs": [],
   "source": [
    "df2011 = df2011.assign(\n",
    "    temperatura = (lambda x : round(x.temp * 41)),\n",
    "    sensacionTermica = (lambda x : round(x.atemp * 50)),\n",
    "    humedad = (lambda x : round(x.hum * 100)),\n",
    "    velViento = (lambda x: round(x.windspeed * 67))\n",
    ")\n",
    "\n",
    "#Se pueden ordenar las columnas?"
   ]
  },
  {
   "cell_type": "code",
   "execution_count": null,
   "metadata": {},
   "outputs": [],
   "source": [
    "df2011.drop(columns= ['temp','atemp','hum', 'windspeed'], inplace=True)\n",
    "df2011.describe(include='all')"
   ]
  },
  {
   "cell_type": "code",
   "execution_count": null,
   "metadata": {},
   "outputs": [],
   "source": [
    "df2011.shape"
   ]
  },
  {
   "cell_type": "code",
   "execution_count": null,
   "metadata": {},
   "outputs": [],
   "source": [
    "df2011.query('dteday == \"2011-01-27\"')"
   ]
  },
  {
   "cell_type": "code",
   "execution_count": null,
   "metadata": {},
   "outputs": [],
   "source": [
    "df2011.query('mnth == 12')"
   ]
  },
  {
   "cell_type": "code",
   "execution_count": null,
   "metadata": {},
   "outputs": [],
   "source": [
    "df2011.groupby(['season','mnth'])[['cnt']].sum()"
   ]
  },
  {
   "cell_type": "code",
   "execution_count": 50,
   "metadata": {},
   "outputs": [
    {
     "data": {
      "text/plain": [
       "<Axes: xlabel='mnth', ylabel='cnt'>"
      ]
     },
     "execution_count": 50,
     "metadata": {},
     "output_type": "execute_result"
    },
    {
     "data": {
      "image/png": "[encoded data removed]",
      "text/plain": [
       "<Figure size 640x480 with 1 Axes>"
      ]
     },
     "metadata": {},
     "output_type": "display_data"
    }
   ],
   "source": [
    "sns.barplot(data=df2011.groupby(['season','mnth'])[['cnt']].sum(), x='mnth',y='cnt',hue='season', palette='colorblind')"
   ]
  },
  {
   "cell_type": "code",
   "execution_count": 64,
   "metadata": {},
   "outputs": [
    {
     "data": {
      "text/plain": [
       "<Axes: xlabel='cnt', ylabel='temperatura'>"
      ]
     },
     "execution_count": 64,
     "metadata": {},
     "output_type": "execute_result"
    },
    {
     "data": {
      "image/png": "[encoded data removed]",
      "text/plain": [
       "<Figure size 640x480 with 1 Axes>"
      ]
     },
     "metadata": {},
     "output_type": "display_data"
    }
   ],
   "source": [
    "df_inv_prim = df2011.query('season <= 2').groupby(['season'])[['temperatura','cnt']].agg({'temperatura':'mean', 'cnt': 'sum'})\n",
    "sns.barplot(data=df_inv_prim,x='cnt',y='temperatura', hue='season',palette='colorblind')"
   ]
  },
  {
   "cell_type": "code",
   "execution_count": 63,
   "metadata": {},
   "outputs": [
    {
     "data": {
      "text/plain": [
       "<Axes: xlabel='cnt', ylabel='temperatura'>"
      ]
     },
     "execution_count": 63,
     "metadata": {},
     "output_type": "execute_result"
    },
    {
     "data": {
      "image/png": "[encoded data removed]",
      "text/plain": [
       "<Figure size 640x480 with 1 Axes>"
      ]
     },
     "metadata": {},
     "output_type": "display_data"
    }
   ],
   "source": [
    "df_ver_oton = df2011.query('season >= 3').groupby(['season'])[['temperatura','cnt']].agg({'temperatura':'mean', 'cnt': 'sum'})\n",
    "sns.barplot(data=df_ver_oton,x='cnt',y='temperatura', hue='season',palette='colorblind')"
   ]
  },
  {
   "cell_type": "code",
   "execution_count": 67,
   "metadata": {},
   "outputs": [
    {
     "data": {
      "text/html": [
       "<div>\n",
       "<style scoped>\n",
       "    .dataframe tbody tr th:only-of-type {\n",
       "        vertical-align: middle;\n",
       "    }\n",
       "\n",
       "    .dataframe tbody tr th {\n",
       "        vertical-align: top;\n",
       "    }\n",
       "\n",
       "    .dataframe thead th {\n",
       "        text-align: right;\n",
       "    }\n",
       "</style>\n",
       "<table border=\"1\" class=\"dataframe\">\n",
       "  <thead>\n",
       "    <tr style=\"text-align: right;\">\n",
       "      <th></th>\n",
       "      <th>temperatura</th>\n",
       "      <th>cnt</th>\n",
       "    </tr>\n",
       "    <tr>\n",
       "      <th>season</th>\n",
       "      <th></th>\n",
       "      <th></th>\n",
       "    </tr>\n",
       "  </thead>\n",
       "  <tbody>\n",
       "    <tr>\n",
       "      <th>1</th>\n",
       "      <td>11.285783</td>\n",
       "      <td>150000</td>\n",
       "    </tr>\n",
       "    <tr>\n",
       "      <th>2</th>\n",
       "      <td>21.881071</td>\n",
       "      <td>347316</td>\n",
       "    </tr>\n",
       "    <tr>\n",
       "      <th>3</th>\n",
       "      <td>28.771429</td>\n",
       "      <td>419650</td>\n",
       "    </tr>\n",
       "    <tr>\n",
       "      <th>4</th>\n",
       "      <td>17.437676</td>\n",
       "      <td>326137</td>\n",
       "    </tr>\n",
       "  </tbody>\n",
       "</table>\n",
       "</div>"
      ],
      "text/plain": [
       "        temperatura     cnt\n",
       "season                     \n",
       "1         11.285783  150000\n",
       "2         21.881071  347316\n",
       "3         28.771429  419650\n",
       "4         17.437676  326137"
      ]
     },
     "execution_count": 67,
     "metadata": {},
     "output_type": "execute_result"
    }
   ],
   "source": [
    "df_estaciones = pd.concat((df_inv_prim,df_ver_oton))\n",
    "df_calido = df_estaciones.query('')"
   ]
  },
  {
   "cell_type": "code",
   "execution_count": null,
   "metadata": {},
   "outputs": [],
   "source": [
    "x = df2011.groupby('season')[['casual','registered']].agg({'casual':'sum','registered':'sum'}).reset_index()\n",
    "\n",
    "fig, ax = plt.subplots(2)\n",
    "ax[0].bar(x['season'],x['casual'])\n",
    "ax[1].bar(x['season'],x['registered'])\n",
    "\n",
    "plt.xlabel('Season')\n",
    "plt.ylabel('Count')\n",
    "plt.title('Casual vs Registered by Season')\n",
    "plt.legend()"
   ]
  },
  {
   "cell_type": "markdown",
   "metadata": {},
   "source": [
    "******"
   ]
  },
  {
   "cell_type": "code",
   "execution_count": null,
   "metadata": {},
   "outputs": [],
   "source": [
    "# import seaborn as sns\n",
    "# import matplotlib.pyplot as plt\n",
    "\n",
    "# # Supongamos que df2011 es tu DataFrame\n",
    "\n",
    "# # Agrupa por temporada y suma las columnas 'casual' y 'registered'\n",
    "# grouped_data = df2011.groupby('season')[['casual','registered']].agg({'casual':'sum','registered':'sum'}).reset_index()\n",
    "\n",
    "# # Crea el gráfico de barras\n",
    "# fig, ax = plt.subplots(2)\n",
    "# ax[0].bar(x='season', y='casual', data=grouped_data, color='blue', label='Casual')\n",
    "# ax[1].bar(x='season', y='registered', data=grouped_data, color='orange', label='Registered')\n",
    "\n",
    "# # Agrega etiquetas y leyenda\n",
    "# plt.xlabel('Season')\n",
    "# plt.ylabel('Count')\n",
    "# plt.title('Casual vs Registered by Season')\n",
    "# plt.legend()\n"
   ]
  },
  {
   "cell_type": "code",
   "execution_count": null,
   "metadata": {},
   "outputs": [],
   "source": [
    "sns.boxplot(data=df2011,x='mnth',y='Temperatura') #Esto es la temperatura en los meses."
   ]
  },
  {
   "cell_type": "code",
   "execution_count": null,
   "metadata": {},
   "outputs": [],
   "source": [
    "x = df2011.groupby(['mnth','season'])[['cnt']].sum()\n",
    "sns.boxplot(data=x, x='season',y='cnt')"
   ]
  },
  {
   "cell_type": "code",
   "execution_count": null,
   "metadata": {},
   "outputs": [],
   "source": [
    "sns.lineplot(data=x, x='mnth',y='cnt')"
   ]
  },
  {
   "cell_type": "markdown",
   "metadata": {},
   "source": [
    "*****"
   ]
  },
  {
   "cell_type": "code",
   "execution_count": null,
   "metadata": {},
   "outputs": [],
   "source": [
    "#La documentación es erronea. el 1 en season representa el invierno.\n",
    "\n",
    "df2011_season1_inv = df2011.query('season == 1') \n",
    "df2011_season1_inv['mnth'].unique()"
   ]
  },
  {
   "cell_type": "code",
   "execution_count": null,
   "metadata": {},
   "outputs": [],
   "source": [
    "df2011_season1_inv['Temperatura'].describe()"
   ]
  },
  {
   "cell_type": "code",
   "execution_count": null,
   "metadata": {},
   "outputs": [],
   "source": [
    "sns.boxplot(data=df2011_season1_inv,x='mnth',y='Temperatura')"
   ]
  },
  {
   "cell_type": "code",
   "execution_count": null,
   "metadata": {},
   "outputs": [],
   "source": []
  },
  {
   "cell_type": "code",
   "execution_count": null,
   "metadata": {},
   "outputs": [],
   "source": [
    "\n",
    "df2011_season2_prim= df2011.query('season == 2') \n",
    "df2011_season2_prim['mnth'].unique()"
   ]
  },
  {
   "cell_type": "code",
   "execution_count": null,
   "metadata": {},
   "outputs": [],
   "source": [
    "df_test = df2011_season2_prim.groupby(['mnth'])[['cnt']].sum()#Porqué sum y no count. El count es para ver cuantos registros y el sum, es la suma de ellos. "
   ]
  },
  {
   "cell_type": "code",
   "execution_count": null,
   "metadata": {},
   "outputs": [],
   "source": [
    "sns.barplot(data=df_test, y='cnt', x='mnth', palette='viridis')\n",
    "plt.show()"
   ]
  }
 ],
 "metadata": {
  "kernelspec": {
   "display_name": "Python 3",
   "language": "python",
   "name": "python3"
  },
  "language_info": {
   "codemirror_mode": {
    "name": "ipython",
    "version": 3
   },
   "file_extension": ".py",
   "mimetype": "text/x-python",
   "name": "python",
   "nbconvert_exporter": "python",
   "pygments_lexer": "ipython3",
   "version": "3.11.6"
  }
 },
 "nbformat": 4,
 "nbformat_minor": 2
}
