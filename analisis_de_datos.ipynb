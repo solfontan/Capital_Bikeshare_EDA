{
 "cells": [
  {
   "cell_type": "markdown",
   "metadata": {},
   "source": [
    "# Citi Bike 2020 - 2021\n"
   ]
  },
  {
   "cell_type": "markdown",
   "metadata": {},
   "source": [
    "#### Importamos librerías"
   ]
  },
  {
   "cell_type": "markdown",
   "metadata": {},
   "source": [
    "**Acerca del conjunto de datos**\n",
    "Citi Bike es un sistema público de bicicletas compartidas de propiedad privada que presta servicios en los distritos del Bronx, Brooklyn, Manhattan y Queens de la ciudad de Nueva York, así como en la ciudad de Jersey, Nueva Jersey. Nombrado en honor al patrocinador principal Citigroup, es operado por Motivate (anteriormente Alta Bicycle Share), con el ex director ejecutivo de la Autoridad de Transporte Metropolitano, Jay Walder, como director ejecutivo hasta el 30 de septiembre de 2018, cuando Lyft adquirió la compañía . Las bicicletas y estaciones del sistema utilizan tecnología de la marca BIXI de PBSC Urban Solutions.\n",
    "\n",
    "En julio de 2019, hay 169.000 suscriptores anuales. Los usuarios de Citi Bike realizaron un promedio de 56,497 viajes por día en 2019, y el sistema alcanzó un total de 50 millones de viajes en octubre de 2017. fuente wikipedia\n",
    "\n",
    "Este conjunto de datos contiene detalles de viajes para el año 2021 de enero a abril. Contiene 15 columnas cada una:\n",
    "\n",
    "- duración del viaje - Duración en segundos\n",
    "- hora de inicio - Hora y fecha de inicio \n",
    "- hora de parada - Fecha y hora de parada\n",
    "- ID de la estación de inicio - ID de la estación de inicio\n",
    "- Nombre de la estación de inicio - Nombre de la estación de inicio\n",
    "- Latitud de la estación de inicio - Latitud de la estación de inicio \n",
    "- Longitud de la estación de inicio - Longitud del final de la estación de inicio\n",
    "- ID de estación - ID de la estación final\n",
    "- Nombre de la estación final - Nombre de la\n",
    "- estación final \n",
    "- Latitud de la estación final - Latitud de la estación final\n",
    "- Longitud de la estación final - Longitud de la estación final\n",
    "ID de bicicleta - \n",
    "Tipo de usuario de ID de bicicleta - Cliente = usuario de pase de 24 horas o pase de 3 días ; Suscriptor =\n",
    "Género del miembro anual - Cero = desconocido; 1=masculino; 2= femenino.\n",
    "año de nacimiento - Año de nacimiento"
   ]
  },
  {
   "cell_type": "code",
   "execution_count": null,
   "metadata": {},
   "outputs": [],
   "source": [
    "import pandas as pd\n",
    "import numpy as np\n",
    "import seaborn as sns\n",
    "import matplotlib.pyplot as plt\n",
    "\n",
    "\n",
    "#Agregamos estilos a nuestros gráficos\n",
    "%matplotlib inline\n",
    "sns.set_style(style='whitegrid')\n",
    "sns.set_context(context='notebook')\n",
    "plt.rcParams['figure.figsize'] = (8, 8)\n",
    "\n",
    "blues = sns.dark_palette('blue')"
   ]
  },
  {
   "cell_type": "markdown",
   "metadata": {},
   "source": [
    "#### Datos Crudos de January 2020"
   ]
  },
  {
   "cell_type": "code",
   "execution_count": null,
   "metadata": {},
   "outputs": [],
   "source": [
    "df_january2020 = pd.read_csv('./archive (5)/CitiBike_Trip_Data/2020/January2020.csv')\n",
    "df_february2020 = pd.read_csv('./archive (5)/CitiBike_Trip_Data/2020/February2020.csv')\n",
    "df_april2020 = pd.read_csv('./archive (5)/CitiBike_Trip_Data/2020/April2020.csv')"
   ]
  },
  {
   "cell_type": "code",
   "execution_count": null,
   "metadata": {},
   "outputs": [],
   "source": [
    "#tripduration in seconds and gender: 0:unknown 1:male 2:female\n",
    "df_january2020.head()"
   ]
  },
  {
   "cell_type": "code",
   "execution_count": null,
   "metadata": {},
   "outputs": [],
   "source": [
    "df_january2020.shape"
   ]
  },
  {
   "cell_type": "code",
   "execution_count": null,
   "metadata": {},
   "outputs": [],
   "source": [
    "(\n",
    "    df_january2020\n",
    "    .info()\n",
    ")"
   ]
  },
  {
   "cell_type": "code",
   "execution_count": null,
   "metadata": {},
   "outputs": [],
   "source": [
    "(\n",
    "    df_january2020\n",
    "    .dtypes\n",
    "    .value_counts()\n",
    ")"
   ]
  },
  {
   "cell_type": "code",
   "execution_count": null,
   "metadata": {},
   "outputs": [],
   "source": [
    "#Comenzamos a ver valores raros, 520598 segundos andando en bici.Son 144 horas.\n",
    "#Mínimo Fecha de nacimiento: 1888?\n",
    "#Antes de continuar por aquellos valores, tratemos con los datos nulos o duplicados\n",
    "df_january2020.describe()"
   ]
  },
  {
   "cell_type": "code",
   "execution_count": null,
   "metadata": {},
   "outputs": [],
   "source": [
    "#Para facilitar las llmadas, renombramos las columnas\n",
    "print( df_january2020.columns) # for columns\n",
    "print(df_january2020.index) # for row indexes"
   ]
  },
  {
   "cell_type": "code",
   "execution_count": null,
   "metadata": {},
   "outputs": [],
   "source": [
    "df_january2020.rename(columns= {'start station id':'startstationid',\n",
    "                     'start station name':'startstationname',\n",
    "                     'start station latitude': 'startstationlatitude',\n",
    "                     'start station longitude':'startstationlongitude',\n",
    "                     'end station id': 'endstationid',\n",
    "                     'end station name': 'endstationname',\n",
    "                     'end station latitude':'endstationlatitude', \n",
    "                     'end station longitude': 'endstationlongitude',\n",
    "                     'birth year':'birthyear'\n",
    "                },\n",
    "        inplace=True)\n",
    "        \n",
    "df_january2020.columns"
   ]
  },
  {
   "cell_type": "code",
   "execution_count": null,
   "metadata": {},
   "outputs": [],
   "source": [
    "(\n",
    "    df_january2020\n",
    "    .isnull()\n",
    "    .any()\n",
    ")"
   ]
  },
  {
   "cell_type": "code",
   "execution_count": null,
   "metadata": {},
   "outputs": [],
   "source": [
    "(\n",
    "    df_january2020\n",
    "    .duplicated()\n",
    "    .sum()\n",
    ")"
   ]
  },
  {
   "cell_type": "code",
   "execution_count": null,
   "metadata": {},
   "outputs": [],
   "source": [
    "df_january2020.describe(include='object')"
   ]
  },
  {
   "cell_type": "code",
   "execution_count": null,
   "metadata": {},
   "outputs": [],
   "source": [
    "#df_january2020.birthyear.max() --> 2002\n",
    "\n",
    "#df_january2020.birthyear.min() --> 1888\n",
    "\n",
    "df_january2020.query(f'birthyear == {1888}')\n",
    "df_january2020_drop = df_january2020.drop(df_january2020[df_january2020['birthyear']==1888].index)"
   ]
  },
  {
   "cell_type": "code",
   "execution_count": null,
   "metadata": {},
   "outputs": [],
   "source": [
    "df_january2020_drop.query(f\"tripduration >= {300000}\")\n",
    "df_january2020_drop = df_january2020_drop.drop(df_january2020_drop[df_january2020['tripduration']>=300000].index)"
   ]
  },
  {
   "cell_type": "code",
   "execution_count": null,
   "metadata": {},
   "outputs": [],
   "source": [
    "df_january2020_drop.shape"
   ]
  },
  {
   "cell_type": "markdown",
   "metadata": {},
   "source": [
    "Base de datos limpia. Ahora analicemos!\n",
    "\n",
    "¿Lugares de recogida con mayor popularidad en la ciudad?"
   ]
  },
  {
   "cell_type": "code",
   "execution_count": null,
   "metadata": {},
   "outputs": [],
   "source": [
    "toplocation = (\n",
    "    df_january2020_drop\n",
    "    .value_counts('startstationname',sort=True)\n",
    "    .reset_index(name='count')\n",
    "    .head(20)\n",
    "    .pipe(\n",
    "        lambda df:(\n",
    "            sns.barplot(\n",
    "                data=df,\n",
    "                x='count',\n",
    "                y='startstationname',\n",
    "                palette=blues\n",
    "                )\n",
    "        )\n",
    "    )\n",
    ")"
   ]
  }
 ],
 "metadata": {
  "language_info": {
   "name": "python"
  }
 },
 "nbformat": 4,
 "nbformat_minor": 2
}
