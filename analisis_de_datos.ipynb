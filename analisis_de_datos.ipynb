{
 "cells": [
  {
   "cell_type": "markdown",
   "metadata": {},
   "source": [
    "# Citi Bike 2020 - 2021\n"
   ]
  },
  {
   "cell_type": "markdown",
   "metadata": {},
   "source": [
    "**Acerca del conjunto de datos**\n",
    "Citi Bike es un sistema público de bicicletas compartidas de propiedad privada que presta servicios en los distritos del Bronx, Brooklyn, Manhattan y Queens de la ciudad de Nueva York, así como en la ciudad de Jersey, Nueva Jersey. Nombrado en honor al patrocinador principal Citigroup, es operado por Motivate (anteriormente Alta Bicycle Share), con el ex director ejecutivo de la Autoridad de Transporte Metropolitano, Jay Walder, como director ejecutivo hasta el 30 de septiembre de 2018, cuando Lyft adquirió la compañía . Las bicicletas y estaciones del sistema utilizan tecnología de la marca BIXI de PBSC Urban Solutions.\n",
    "\n",
    "En julio de 2019, hay 169.000 suscriptores anuales. Los usuarios de Citi Bike realizaron un promedio de 56,497 viajes por día en 2019, y el sistema alcanzó un total de 50 millones de viajes en octubre de 2017. fuente wikipedia\n",
    "\n",
    "Este conjunto de datos contiene detalles de viajes para el año 2021 de enero a abril. Contiene 15 columnas cada una:\n",
    "\n",
    "- duración del viaje - Duración en segundos\n",
    "- hora de inicio - Hora y fecha de inicio \n",
    "- hora de parada - Fecha y hora de parada\n",
    "- ID de la estación de inicio - ID de la estación de inicio\n",
    "- Nombre de la estación de inicio - Nombre de la estación de inicio\n",
    "- Latitud de la estación de inicio - Latitud de la estación de inicio \n",
    "- Longitud de la estación de inicio - Longitud del final de la estación de inicio\n",
    "- ID de estación - ID de la estación final\n",
    "- Nombre de la estación final - Nombre de la\n",
    "- estación final \n",
    "- Latitud de la estación final - Latitud de la estación final\n",
    "- Longitud de la estación final - Longitud de la estación final\n",
    "ID de bicicleta - \n",
    "Tipo de usuario de ID de bicicleta - Cliente = usuario de pase de 24 horas o pase de 3 días ; Suscriptor =\n",
    "Género del miembro anual - Cero = desconocido; 1=masculino; 2= femenino.\n",
    "año de nacimiento - Año de nacimiento"
   ]
  },
  {
   "cell_type": "markdown",
   "metadata": {},
   "source": [
    "#### Importamos librerías"
   ]
  },
  {
   "cell_type": "code",
   "execution_count": 1,
   "metadata": {},
   "outputs": [],
   "source": [
    "import pandas as pd\n",
    "import numpy as np\n",
    "import seaborn as sns\n",
    "import matplotlib.pyplot as plt\n",
    "\n",
    "\n",
    "#Agregamos estilos a nuestros gráficos\n",
    "%matplotlib inline\n",
    "sns.set_style(style='whitegrid')\n",
    "sns.set_context(context='notebook')\n",
    "plt.rcParams['figure.figsize'] = (8, 8)\n",
    "\n",
    "blues = sns.dark_palette('blue')"
   ]
  },
  {
   "cell_type": "markdown",
   "metadata": {},
   "source": [
    "#### Datos Crudos de January 2020"
   ]
  },
  {
   "cell_type": "code",
   "execution_count": 3,
   "metadata": {},
   "outputs": [],
   "source": [
    "df_january2020 = pd.read_csv('./archive (5)/CitiBike_Trip_Data/2020/January2020.csv')\n",
    "df_february2020 = pd.read_csv('./archive (5)/CitiBike_Trip_Data/2020/February2020.csv')\n",
    "df_april2020 = pd.read_csv('./archive (5)/CitiBike_Trip_Data/2020/April2020.csv')"
   ]
  },
  {
   "cell_type": "code",
   "execution_count": 5,
   "metadata": {},
   "outputs": [
    {
     "data": {
      "text/html": [
       "<div>\n",
       "<style scoped>\n",
       "    .dataframe tbody tr th:only-of-type {\n",
       "        vertical-align: middle;\n",
       "    }\n",
       "\n",
       "    .dataframe tbody tr th {\n",
       "        vertical-align: top;\n",
       "    }\n",
       "\n",
       "    .dataframe thead th {\n",
       "        text-align: right;\n",
       "    }\n",
       "</style>\n",
       "<table border=\"1\" class=\"dataframe\">\n",
       "  <thead>\n",
       "    <tr style=\"text-align: right;\">\n",
       "      <th></th>\n",
       "      <th>tripduration</th>\n",
       "      <th>starttime</th>\n",
       "      <th>stoptime</th>\n",
       "      <th>start station id</th>\n",
       "      <th>start station name</th>\n",
       "      <th>start station latitude</th>\n",
       "      <th>start station longitude</th>\n",
       "      <th>end station id</th>\n",
       "      <th>end station name</th>\n",
       "      <th>end station latitude</th>\n",
       "      <th>end station longitude</th>\n",
       "      <th>bikeid</th>\n",
       "      <th>usertype</th>\n",
       "      <th>birth year</th>\n",
       "      <th>gender</th>\n",
       "    </tr>\n",
       "  </thead>\n",
       "  <tbody>\n",
       "    <tr>\n",
       "      <th>0</th>\n",
       "      <td>226</td>\n",
       "      <td>2020-01-01 00:04:50.1920</td>\n",
       "      <td>2020-01-01 00:08:37.0370</td>\n",
       "      <td>3186</td>\n",
       "      <td>Grove St PATH</td>\n",
       "      <td>40.719586</td>\n",
       "      <td>-74.043117</td>\n",
       "      <td>3211</td>\n",
       "      <td>Newark Ave</td>\n",
       "      <td>40.721525</td>\n",
       "      <td>-74.046305</td>\n",
       "      <td>29444</td>\n",
       "      <td>Subscriber</td>\n",
       "      <td>1984</td>\n",
       "      <td>2</td>\n",
       "    </tr>\n",
       "    <tr>\n",
       "      <th>1</th>\n",
       "      <td>377</td>\n",
       "      <td>2020-01-01 00:16:01.6700</td>\n",
       "      <td>2020-01-01 00:22:19.0800</td>\n",
       "      <td>3186</td>\n",
       "      <td>Grove St PATH</td>\n",
       "      <td>40.719586</td>\n",
       "      <td>-74.043117</td>\n",
       "      <td>3269</td>\n",
       "      <td>Brunswick &amp; 6th</td>\n",
       "      <td>40.726012</td>\n",
       "      <td>-74.050389</td>\n",
       "      <td>26305</td>\n",
       "      <td>Subscriber</td>\n",
       "      <td>1989</td>\n",
       "      <td>2</td>\n",
       "    </tr>\n",
       "    <tr>\n",
       "      <th>2</th>\n",
       "      <td>288</td>\n",
       "      <td>2020-01-01 00:17:33.8770</td>\n",
       "      <td>2020-01-01 00:22:22.4420</td>\n",
       "      <td>3186</td>\n",
       "      <td>Grove St PATH</td>\n",
       "      <td>40.719586</td>\n",
       "      <td>-74.043117</td>\n",
       "      <td>3269</td>\n",
       "      <td>Brunswick &amp; 6th</td>\n",
       "      <td>40.726012</td>\n",
       "      <td>-74.050389</td>\n",
       "      <td>29268</td>\n",
       "      <td>Customer</td>\n",
       "      <td>1989</td>\n",
       "      <td>1</td>\n",
       "    </tr>\n",
       "    <tr>\n",
       "      <th>3</th>\n",
       "      <td>435</td>\n",
       "      <td>2020-01-01 00:32:05.9020</td>\n",
       "      <td>2020-01-01 00:39:21.0660</td>\n",
       "      <td>3195</td>\n",
       "      <td>Sip Ave</td>\n",
       "      <td>40.730897</td>\n",
       "      <td>-74.063913</td>\n",
       "      <td>3280</td>\n",
       "      <td>Astor Place</td>\n",
       "      <td>40.719282</td>\n",
       "      <td>-74.071262</td>\n",
       "      <td>29278</td>\n",
       "      <td>Customer</td>\n",
       "      <td>1969</td>\n",
       "      <td>0</td>\n",
       "    </tr>\n",
       "    <tr>\n",
       "      <th>4</th>\n",
       "      <td>231</td>\n",
       "      <td>2020-01-01 00:46:19.6780</td>\n",
       "      <td>2020-01-01 00:50:11.3440</td>\n",
       "      <td>3186</td>\n",
       "      <td>Grove St PATH</td>\n",
       "      <td>40.719586</td>\n",
       "      <td>-74.043117</td>\n",
       "      <td>3276</td>\n",
       "      <td>Marin Light Rail</td>\n",
       "      <td>40.714584</td>\n",
       "      <td>-74.042817</td>\n",
       "      <td>29276</td>\n",
       "      <td>Subscriber</td>\n",
       "      <td>1983</td>\n",
       "      <td>2</td>\n",
       "    </tr>\n",
       "  </tbody>\n",
       "</table>\n",
       "</div>"
      ],
      "text/plain": [
       "   tripduration                 starttime                  stoptime  \\\n",
       "0           226  2020-01-01 00:04:50.1920  2020-01-01 00:08:37.0370   \n",
       "1           377  2020-01-01 00:16:01.6700  2020-01-01 00:22:19.0800   \n",
       "2           288  2020-01-01 00:17:33.8770  2020-01-01 00:22:22.4420   \n",
       "3           435  2020-01-01 00:32:05.9020  2020-01-01 00:39:21.0660   \n",
       "4           231  2020-01-01 00:46:19.6780  2020-01-01 00:50:11.3440   \n",
       "\n",
       "   start station id start station name  start station latitude  \\\n",
       "0              3186      Grove St PATH               40.719586   \n",
       "1              3186      Grove St PATH               40.719586   \n",
       "2              3186      Grove St PATH               40.719586   \n",
       "3              3195            Sip Ave               40.730897   \n",
       "4              3186      Grove St PATH               40.719586   \n",
       "\n",
       "   start station longitude  end station id  end station name  \\\n",
       "0               -74.043117            3211        Newark Ave   \n",
       "1               -74.043117            3269   Brunswick & 6th   \n",
       "2               -74.043117            3269   Brunswick & 6th   \n",
       "3               -74.063913            3280       Astor Place   \n",
       "4               -74.043117            3276  Marin Light Rail   \n",
       "\n",
       "   end station latitude  end station longitude  bikeid    usertype  \\\n",
       "0             40.721525             -74.046305   29444  Subscriber   \n",
       "1             40.726012             -74.050389   26305  Subscriber   \n",
       "2             40.726012             -74.050389   29268    Customer   \n",
       "3             40.719282             -74.071262   29278    Customer   \n",
       "4             40.714584             -74.042817   29276  Subscriber   \n",
       "\n",
       "   birth year  gender  \n",
       "0        1984       2  \n",
       "1        1989       2  \n",
       "2        1989       1  \n",
       "3        1969       0  \n",
       "4        1983       2  "
      ]
     },
     "execution_count": 5,
     "metadata": {},
     "output_type": "execute_result"
    }
   ],
   "source": [
    "#tripduration in seconds and gender: 0:unknown -  1:male  - 2:female\n",
    "df_january2020.head()"
   ]
  },
  {
   "cell_type": "code",
   "execution_count": 6,
   "metadata": {},
   "outputs": [
    {
     "data": {
      "text/plain": [
       "(26020, 15)"
      ]
     },
     "execution_count": 6,
     "metadata": {},
     "output_type": "execute_result"
    }
   ],
   "source": [
    "df_january2020.shape"
   ]
  },
  {
   "cell_type": "code",
   "execution_count": 7,
   "metadata": {},
   "outputs": [
    {
     "name": "stdout",
     "output_type": "stream",
     "text": [
      "<class 'pandas.core.frame.DataFrame'>\n",
      "RangeIndex: 26020 entries, 0 to 26019\n",
      "Data columns (total 15 columns):\n",
      " #   Column                   Non-Null Count  Dtype  \n",
      "---  ------                   --------------  -----  \n",
      " 0   tripduration             26020 non-null  int64  \n",
      " 1   starttime                26020 non-null  object \n",
      " 2   stoptime                 26020 non-null  object \n",
      " 3   start station id         26020 non-null  int64  \n",
      " 4   start station name       26020 non-null  object \n",
      " 5   start station latitude   26020 non-null  float64\n",
      " 6   start station longitude  26020 non-null  float64\n",
      " 7   end station id           26020 non-null  int64  \n",
      " 8   end station name         26020 non-null  object \n",
      " 9   end station latitude     26020 non-null  float64\n",
      " 10  end station longitude    26020 non-null  float64\n",
      " 11  bikeid                   26020 non-null  int64  \n",
      " 12  usertype                 26020 non-null  object \n",
      " 13  birth year               26020 non-null  int64  \n",
      " 14  gender                   26020 non-null  int64  \n",
      "dtypes: float64(4), int64(6), object(5)\n",
      "memory usage: 3.0+ MB\n"
     ]
    }
   ],
   "source": [
    "(\n",
    "    df_january2020\n",
    "    .info()\n",
    ")\n",
    "#Fecha tipo object"
   ]
  },
  {
   "cell_type": "code",
   "execution_count": 8,
   "metadata": {},
   "outputs": [
    {
     "data": {
      "text/plain": [
       "int64      6\n",
       "object     5\n",
       "float64    4\n",
       "Name: count, dtype: int64"
      ]
     },
     "execution_count": 8,
     "metadata": {},
     "output_type": "execute_result"
    }
   ],
   "source": [
    "(\n",
    "    df_january2020\n",
    "    .dtypes\n",
    "    .value_counts()\n",
    ")\n",
    "#Medio al pepe, si info ya me lo dice"
   ]
  },
  {
   "cell_type": "code",
   "execution_count": 12,
   "metadata": {},
   "outputs": [
    {
     "data": {
      "text/plain": [
       "Index(['tripduration', 'starttime', 'stoptime', 'start station id',\n",
       "       'start station name', 'start station latitude',\n",
       "       'start station longitude', 'end station id', 'end station name',\n",
       "       'end station latitude', 'end station longitude', 'bikeid', 'usertype',\n",
       "       'birth year', 'gender'],\n",
       "      dtype='object')"
      ]
     },
     "execution_count": 12,
     "metadata": {},
     "output_type": "execute_result"
    }
   ],
   "source": [
    "df_january2020.columns"
   ]
  },
  {
   "cell_type": "code",
   "execution_count": 19,
   "metadata": {},
   "outputs": [
    {
     "data": {
      "text/html": [
       "<div>\n",
       "<style scoped>\n",
       "    .dataframe tbody tr th:only-of-type {\n",
       "        vertical-align: middle;\n",
       "    }\n",
       "\n",
       "    .dataframe tbody tr th {\n",
       "        vertical-align: top;\n",
       "    }\n",
       "\n",
       "    .dataframe thead th {\n",
       "        text-align: right;\n",
       "    }\n",
       "</style>\n",
       "<table border=\"1\" class=\"dataframe\">\n",
       "  <thead>\n",
       "    <tr style=\"text-align: right;\">\n",
       "      <th></th>\n",
       "      <th>tripduration</th>\n",
       "      <th>start station id</th>\n",
       "      <th>start station latitude</th>\n",
       "      <th>start station longitude</th>\n",
       "      <th>end station id</th>\n",
       "      <th>end station latitude</th>\n",
       "      <th>end station longitude</th>\n",
       "      <th>bikeid</th>\n",
       "      <th>birth year</th>\n",
       "      <th>gender</th>\n",
       "    </tr>\n",
       "  </thead>\n",
       "  <tbody>\n",
       "    <tr>\n",
       "      <th>count</th>\n",
       "      <td>26020.000000</td>\n",
       "      <td>26020.000000</td>\n",
       "      <td>26020.000000</td>\n",
       "      <td>26020.000000</td>\n",
       "      <td>26020.000000</td>\n",
       "      <td>26020.000000</td>\n",
       "      <td>26020.000000</td>\n",
       "      <td>26020.000000</td>\n",
       "      <td>26020.000000</td>\n",
       "      <td>26020.000000</td>\n",
       "    </tr>\n",
       "    <tr>\n",
       "      <th>mean</th>\n",
       "      <td>540.897540</td>\n",
       "      <td>3305.578094</td>\n",
       "      <td>40.722574</td>\n",
       "      <td>-74.046602</td>\n",
       "      <td>3305.218217</td>\n",
       "      <td>40.722256</td>\n",
       "      <td>-74.046200</td>\n",
       "      <td>29179.361299</td>\n",
       "      <td>1981.163605</td>\n",
       "      <td>1.199769</td>\n",
       "    </tr>\n",
       "    <tr>\n",
       "      <th>std</th>\n",
       "      <td>4249.238936</td>\n",
       "      <td>184.011111</td>\n",
       "      <td>0.006669</td>\n",
       "      <td>0.010983</td>\n",
       "      <td>186.618387</td>\n",
       "      <td>0.006521</td>\n",
       "      <td>0.010890</td>\n",
       "      <td>3257.769791</td>\n",
       "      <td>10.310239</td>\n",
       "      <td>0.497721</td>\n",
       "    </tr>\n",
       "    <tr>\n",
       "      <th>min</th>\n",
       "      <td>61.000000</td>\n",
       "      <td>3184.000000</td>\n",
       "      <td>40.711130</td>\n",
       "      <td>-74.083639</td>\n",
       "      <td>525.000000</td>\n",
       "      <td>40.709651</td>\n",
       "      <td>-74.083639</td>\n",
       "      <td>26151.000000</td>\n",
       "      <td>1888.000000</td>\n",
       "      <td>0.000000</td>\n",
       "    </tr>\n",
       "    <tr>\n",
       "      <th>25%</th>\n",
       "      <td>225.000000</td>\n",
       "      <td>3195.000000</td>\n",
       "      <td>40.718355</td>\n",
       "      <td>-74.050444</td>\n",
       "      <td>3194.000000</td>\n",
       "      <td>40.718355</td>\n",
       "      <td>-74.050389</td>\n",
       "      <td>26303.000000</td>\n",
       "      <td>1976.000000</td>\n",
       "      <td>1.000000</td>\n",
       "    </tr>\n",
       "    <tr>\n",
       "      <th>50%</th>\n",
       "      <td>326.000000</td>\n",
       "      <td>3211.000000</td>\n",
       "      <td>40.721525</td>\n",
       "      <td>-74.043845</td>\n",
       "      <td>3211.000000</td>\n",
       "      <td>40.721124</td>\n",
       "      <td>-74.043117</td>\n",
       "      <td>29307.000000</td>\n",
       "      <td>1983.000000</td>\n",
       "      <td>1.000000</td>\n",
       "    </tr>\n",
       "    <tr>\n",
       "      <th>75%</th>\n",
       "      <td>501.000000</td>\n",
       "      <td>3276.000000</td>\n",
       "      <td>40.726012</td>\n",
       "      <td>-74.038526</td>\n",
       "      <td>3277.000000</td>\n",
       "      <td>40.726012</td>\n",
       "      <td>-74.038051</td>\n",
       "      <td>29571.000000</td>\n",
       "      <td>1989.000000</td>\n",
       "      <td>1.000000</td>\n",
       "    </tr>\n",
       "    <tr>\n",
       "      <th>max</th>\n",
       "      <td>520598.000000</td>\n",
       "      <td>3792.000000</td>\n",
       "      <td>40.748716</td>\n",
       "      <td>-74.032108</td>\n",
       "      <td>3792.000000</td>\n",
       "      <td>40.755942</td>\n",
       "      <td>-74.002116</td>\n",
       "      <td>42370.000000</td>\n",
       "      <td>2002.000000</td>\n",
       "      <td>2.000000</td>\n",
       "    </tr>\n",
       "  </tbody>\n",
       "</table>\n",
       "</div>"
      ],
      "text/plain": [
       "        tripduration  start station id  start station latitude  \\\n",
       "count   26020.000000      26020.000000            26020.000000   \n",
       "mean      540.897540       3305.578094               40.722574   \n",
       "std      4249.238936        184.011111                0.006669   \n",
       "min        61.000000       3184.000000               40.711130   \n",
       "25%       225.000000       3195.000000               40.718355   \n",
       "50%       326.000000       3211.000000               40.721525   \n",
       "75%       501.000000       3276.000000               40.726012   \n",
       "max    520598.000000       3792.000000               40.748716   \n",
       "\n",
       "       start station longitude  end station id  end station latitude  \\\n",
       "count             26020.000000    26020.000000          26020.000000   \n",
       "mean                -74.046602     3305.218217             40.722256   \n",
       "std                   0.010983      186.618387              0.006521   \n",
       "min                 -74.083639      525.000000             40.709651   \n",
       "25%                 -74.050444     3194.000000             40.718355   \n",
       "50%                 -74.043845     3211.000000             40.721124   \n",
       "75%                 -74.038526     3277.000000             40.726012   \n",
       "max                 -74.032108     3792.000000             40.755942   \n",
       "\n",
       "       end station longitude        bikeid    birth year        gender  \n",
       "count           26020.000000  26020.000000  26020.000000  26020.000000  \n",
       "mean              -74.046200  29179.361299   1981.163605      1.199769  \n",
       "std                 0.010890   3257.769791     10.310239      0.497721  \n",
       "min               -74.083639  26151.000000   1888.000000      0.000000  \n",
       "25%               -74.050389  26303.000000   1976.000000      1.000000  \n",
       "50%               -74.043117  29307.000000   1983.000000      1.000000  \n",
       "75%               -74.038051  29571.000000   1989.000000      1.000000  \n",
       "max               -74.002116  42370.000000   2002.000000      2.000000  "
      ]
     },
     "execution_count": 19,
     "metadata": {},
     "output_type": "execute_result"
    }
   ],
   "source": [
    "#Comenzamos a ver valores raros, 520598 segundos andando en bici.Son 144 horas.\n",
    "#Mínimo Fecha de nacimiento: 1888?\n",
    "#Antes de continuar por aquellos valores, tratemos con los datos nulos o duplicados\n",
    "df_january2020.describe()\n",
    "#Hay varias columnas que no tienen sentido realizar su describe, cuando otras sí. Startstationid,EndStationid Startstationlongitude,latitude, BikeID"
   ]
  },
  {
   "cell_type": "code",
   "execution_count": null,
   "metadata": {},
   "outputs": [],
   "source": [
    "#Para facilitar las llmadas, renombramos las columnas\n",
    "print( df_january2020.columns) # for columns\n",
    "print(df_january2020.index) # for row indexes"
   ]
  },
  {
   "cell_type": "code",
   "execution_count": null,
   "metadata": {},
   "outputs": [],
   "source": [
    "df_january2020.rename(columns= {'start station id':'startstationid',\n",
    "                     'start station name':'startstationname',\n",
    "                     'start station latitude': 'startstationlatitude',\n",
    "                     'start station longitude':'startstationlongitude',\n",
    "                     'end station id': 'endstationid',\n",
    "                     'end station name': 'endstationname',\n",
    "                     'end station latitude':'endstationlatitude', \n",
    "                     'end station longitude': 'endstationlongitude',\n",
    "                     'birth year':'birthyear'\n",
    "                },\n",
    "        inplace=True)\n",
    "        \n",
    "df_january2020.columns"
   ]
  },
  {
   "cell_type": "code",
   "execution_count": null,
   "metadata": {},
   "outputs": [],
   "source": [
    "(\n",
    "    df_january2020\n",
    "    .isnull()\n",
    "    .any()\n",
    ")"
   ]
  },
  {
   "cell_type": "code",
   "execution_count": null,
   "metadata": {},
   "outputs": [],
   "source": [
    "(\n",
    "    df_january2020\n",
    "    .duplicated()\n",
    "    .sum()\n",
    ")"
   ]
  },
  {
   "cell_type": "code",
   "execution_count": null,
   "metadata": {},
   "outputs": [],
   "source": [
    "df_january2020.describe(include='object')"
   ]
  },
  {
   "cell_type": "code",
   "execution_count": null,
   "metadata": {},
   "outputs": [],
   "source": [
    "#df_january2020.birthyear.max() --> 2002\n",
    "\n",
    "#df_january2020.birthyear.min() --> 1888\n",
    "\n",
    "df_january2020.query(f'birthyear == {1888}')\n",
    "df_january2020_drop = df_january2020.drop(df_january2020[df_january2020['birthyear']==1888].index)"
   ]
  },
  {
   "cell_type": "code",
   "execution_count": null,
   "metadata": {},
   "outputs": [],
   "source": [
    "df_january2020_drop.query(f\"tripduration >= {300000}\")\n",
    "df_january2020_drop = df_january2020_drop.drop(df_january2020_drop[df_january2020['tripduration']>=300000].index)"
   ]
  },
  {
   "cell_type": "code",
   "execution_count": null,
   "metadata": {},
   "outputs": [],
   "source": [
    "df_january2020_drop.shape"
   ]
  },
  {
   "cell_type": "markdown",
   "metadata": {},
   "source": [
    "Base de datos limpia. Ahora analicemos!\n",
    "\n",
    "¿Lugares de recogida con mayor popularidad en la ciudad?"
   ]
  },
  {
   "cell_type": "code",
   "execution_count": null,
   "metadata": {},
   "outputs": [],
   "source": [
    "toplocation = (\n",
    "    df_january2020_drop\n",
    "    .value_counts('startstationname',sort=True)\n",
    "    .reset_index(name='count')\n",
    "    .head(20)\n",
    "    .pipe(\n",
    "        lambda df:(\n",
    "            sns.barplot(\n",
    "                data=df,\n",
    "                x='count',\n",
    "                y='startstationname',\n",
    "                palette=blues\n",
    "                )\n",
    "        )\n",
    "    )\n",
    ")"
   ]
  }
 ],
 "metadata": {
  "kernelspec": {
   "display_name": "Python 3",
   "language": "python",
   "name": "python3"
  },
  "language_info": {
   "codemirror_mode": {
    "name": "ipython",
    "version": 3
   },
   "file_extension": ".py",
   "mimetype": "text/x-python",
   "name": "python",
   "nbconvert_exporter": "python",
   "pygments_lexer": "ipython3",
   "version": "3.11.6"
  }
 },
 "nbformat": 4,
 "nbformat_minor": 2
}
