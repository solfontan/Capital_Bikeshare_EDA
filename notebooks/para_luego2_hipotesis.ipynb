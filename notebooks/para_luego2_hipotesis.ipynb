{
 "cells": [
  {
   "cell_type": "code",
   "execution_count": null,
   "metadata": {},
   "outputs": [],
   "source": [
    "from math import pi\n",
    "import matplotlib.pyplot as plt\n",
    "\n",
    "meses2 = [3,2,1,12,12,11,10,9,9,8,7,6,6,5,4,3]\n",
    "\n",
    "N = len(meses2)\n",
    "\n",
    "angulos = [n / float(N) * 2 * pi for n in range(N)]\n",
    "\n",
    "print('meses', meses2)\n",
    "print('num_meses', len(meses2))\n",
    "print('angulos', angulos)\n",
    "print('num_angulos', len(angulos))\n",
    "print(np.degrees(angulos))"
   ]
  },
  {
   "cell_type": "code",
   "execution_count": null,
   "metadata": {},
   "outputs": [],
   "source": [
    "valores += valores[:1]\n",
    "angulos += angulos[:1]\n",
    "print(len(angulos))\n",
    "print(len(valores))"
   ]
  },
  {
   "cell_type": "code",
   "execution_count": null,
   "metadata": {},
   "outputs": [],
   "source": [
    "# plt.polar(angulos2, valores, color='g')\n",
    "\n",
    "fig, ax = plt.subplots(nrows=1, ncols=1, figsize=(8,8),\n",
    "                       subplot_kw=dict(polar=True))\n",
    "\n",
    "plt.xticks(angulos[:-1], meses2, color='grey', size=12)\n",
    "\n",
    "ax.plot(angulos, valores,linewidth=1, linestyle='solid' )\n",
    "ax.fill(angulos,valores, 'skyblue',alpha=0.4)\n",
    "\n",
    "plt.title('intentamos')"
   ]
  },
  {
   "cell_type": "markdown",
   "metadata": {},
   "source": [
    "***"
   ]
  },
  {
   "cell_type": "code",
   "execution_count": null,
   "metadata": {},
   "outputs": [],
   "source": [
    "import numpy as np\n",
    "\n",
    "meses = [3,2,1,12,12,11,10,9,9,8,7,6,6,5,4,3]\n",
    "\n",
    "valoresI = [cant for cant in df_pregunta1.query('season == 1')[\"cnt\"]]\n",
    "valoresP = [cant for cant in df_pregunta1.query('season == 2')[\"cnt\"]]\n",
    "valoresV = [cant for cant in df_pregunta1.query('season == 3')[\"cnt\"]]\n",
    "valoresO = [cant for cant in df_pregunta1.query('season == 4')[\"cnt\"]]\n",
    "\n",
    "print('valores', valoresI)\n",
    "print('valores', valoresP)\n",
    "print('valores', valoresV)\n",
    "print('valores', valoresO)\n",
    "print('meses',meses, 'largo', len(meses))"
   ]
  },
  {
   "cell_type": "code",
   "execution_count": null,
   "metadata": {},
   "outputs": [],
   "source": [
    "valorI = [ 87.67234042553191, 74.29121725731895, 55.50726744186046, 85.78544061302682]\n",
    "valorO = valoresO[::-1]\n",
    "valorV = valoresV[::-1]\n",
    "valorP = valoresP[::-1]"
   ]
  },
  {
   "cell_type": "code",
   "execution_count": null,
   "metadata": {},
   "outputs": [],
   "source": [
    "N = len(meses)\n",
    "\n",
    "angulos = [n / float(N) * 2 * np.pi for n in range(N)]\n",
    "\n",
    "print(angulos)\n",
    "print(len(angulos))\n",
    "print(np.degrees(angulos))"
   ]
  },
  {
   "cell_type": "code",
   "execution_count": null,
   "metadata": {},
   "outputs": [],
   "source": [
    "fig, ax = plt.subplots(nrows=1, ncols=1, figsize=(8,8),\n",
    "                       subplot_kw=dict(polar=True))\n",
    "\n",
    "plt.xticks(angulos, meses, color='grey', size=12)\n",
    "\n",
    "ax.plot(angulos[:4], valorI, linewidth=1, linestyle='solid' )\n",
    "ax.fill(angulos[:4], valorI, 'blue', alpha=0.4)\n",
    "\n",
    "ax.plot(angulos[4:8], valorO, linewidth=1, linestyle='solid' )\n",
    "ax.fill(angulos[4:8], valorO, 'orange', alpha=0.4)\n",
    "\n",
    "\n",
    "ax.plot(angulos[8:12], valorV, linewidth=1, linestyle='solid' )\n",
    "ax.fill(angulos[8:12], valorV,'yellow', alpha=0.4)\n",
    "\n",
    "\n",
    "ax.plot(angulos[12:], valorP, linewidth=1, linestyle='solid' )\n",
    "ax.fill(angulos[12:], valorP, 'green', alpha=0.4)\n",
    "\n",
    "plt.title('intentamos')"
   ]
  }
 ],
 "metadata": {
  "language_info": {
   "name": "python"
  }
 },
 "nbformat": 4,
 "nbformat_minor": 2
}
