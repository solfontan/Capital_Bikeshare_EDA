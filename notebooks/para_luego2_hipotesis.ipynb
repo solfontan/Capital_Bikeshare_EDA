{
 "cells": [
  {
   "cell_type": "markdown",
   "metadata": {},
   "source": [
    "1. Existe una diferencia significativa en el uso promedio de biciletas entre estaciones cálidas (primavera y verano) y estaciones frías (invierno y otoño).\n",
    "2. Existe una diferencia en el promedio de uso entre las estaciones cálidas.\n",
    "3. Existe una diferencia en el promedio de uso entre las estaciones frías.\n",
    "4. ¿Cómo es el comportamiento por tipo de clientes según la temporada más alta?\n",
    "5. ¿Cómo es el comportamiento por tipo de clientes según la temporada más baja?\n",
    "6. ¿Cómo varía en promedio el uso de bicicletas mensualmente durante la temporada más alta?\n",
    "7. ¿Cómo varía en promedio el uso de bicicletas mensualmente durante la temporada más baja?\n",
    "8. ¿Cómo es el comportamiento por tipo de clientes el uso promedio de bicicletas durante los días de la semana de nuestra temporada de mayor frecuencia?\n",
    "9. ¿Cómo es el comportamiento por tipo de clientes el uso promedio de bicicletas durante los días de la semana de nuestra temporada de menor frecuencia?"
   ]
  },
  {
   "cell_type": "markdown",
   "metadata": {},
   "source": [
    "**Hipótesis 1**:\n",
    "Existe una diferencia significativa en el uso promedio de bicicletas entre estaciones cálidas (primavera y verano) y estaciones frías (invierno y otoño).\n",
    "\n",
    "**Análisis Estadístico**:\n",
    "Para evaluar esta hipótesis, se empleará la prueba de Mann-Whitney U, la cual permitirá comparar las medianas de los grupos de estaciones cálidas y frías.\n",
    "\n",
    "**Hipótesis 2**:\n",
    "Existe una diferencia en el promedio de uso entre las estaciones cálidas.\n",
    "\n",
    "**Análisis Estadístico**:\n",
    "Se realizará la prueba de Kruskal-Wallis para comparar las medianas de los grupos correspondientes a las estaciones cálidas.\n",
    "\n",
    "**Hipótesis 3**:\n",
    "Existe una diferencia en el promedio de uso entre las estaciones frías.\n",
    "\n",
    "**Análisis Estadístico**:\n",
    "Se aplicará la prueba de Kruskal-Wallis para comparar las medianas de los grupos de estaciones frías.\n",
    "\n",
    "**Hipótesis 4**:\n",
    "¿Cómo se manifiesta el comportamiento por tipo de clientes durante la temporada de mayor actividad?\n",
    "\n",
    "**Análisis Estadístico**:\n",
    "Se llevará a cabo un análisis del comportamiento por tipo de clientes durante la temporada más activa utilizando pruebas estadísticas apropiadas para datos relacionados.\n",
    "\n",
    "**Hipótesis 5**:\n",
    "¿Cómo se refleja el comportamiento por tipo de clientes durante la temporada de menor actividad?\n",
    "\n",
    "**Análisis Estadístico**:\n",
    "Se realizará un análisis del comportamiento por tipo de clientes durante la temporada menos activa mediante pruebas estadísticas adecuadas para datos relacionados.\n",
    "\n",
    "**Hipótesis 6**:\n",
    "¿Cómo varía el uso promedio de bicicletas mensualmente durante la temporada de mayor actividad?\n",
    "\n",
    "**Análisis Estadístico**:\n",
    "Se llevará a cabo un análisis mensual del uso promedio de bicicletas durante la temporada más activa utilizando pruebas estadísticas para datos relacionados.\n",
    "\n",
    "**Hipótesis 7**:\n",
    "¿Cómo varía el uso promedio de bicicletas mensualmente durante la temporada de menor actividad?\n",
    "\n",
    "**Análisis Estadístico**:\n",
    "Se realizará un análisis mensual del uso promedio de bicicletas durante la temporada menos activa mediante pruebas estadísticas para datos relacionados.\n",
    "\n",
    "**Hipótesis 8**:\n",
    "¿Cómo se comporta el uso promedio de bicicletas por tipo de clientes durante los días de la semana de mayor frecuencia?\n",
    "\n",
    "**Análisis Estadístico**:\n",
    "Se llevará a cabo un análisis por tipo de clientes del uso promedio de bicicletas durante los días de la semana de mayor frecuencia utilizando pruebas estadísticas apropiadas para datos relacionados.\n",
    "\n",
    "**Hipótesis 9**:\n",
    "¿Cómo se comporta el uso promedio de bicicletas por tipo de clientes durante los días de la semana de menor frecuencia?\n",
    "\n",
    "**Análisis Estadístico**:\n",
    "Se realizará un análisis por tipo de clientes del uso promedio de bicicletas durante los días de la semana de menor frecuencia mediante pruebas estadísticas adecuadas para datos relacionados."
   ]
  },
  {
   "cell_type": "markdown",
   "metadata": {},
   "source": [
    "Existe una diferencia significativa en el uso promedio de bicicletas entre estaciones cálidas y estaciones frías.\n",
    "\n",
    "Prueba sugerida: U Mann-Whitney (también conocida como prueba de Wilcoxon-Mann-Whitney): Compara las medianas de dos muestras independientes.\n",
    "Existe una diferencia en el promedio de uso entre las estaciones cálidas.\n",
    "\n",
    "Prueba sugerida: Prueba de Kruskal-Wallis: Compara las medianas de más de dos muestras independientes.\n",
    "Existe una diferencia en el promedio de uso entre las estaciones frías.\n",
    "\n",
    "Prueba sugerida: Prueba de Kruskal-Wallis: Similar a la prueba anterior, pero aplicada a las estaciones frías.\n",
    "¿Cómo es el comportamiento por tipo de clientes según la temporada más alta?\n",
    "\n",
    "Prueba sugerida: Prueba de Friedman: Compara las medianas de más de dos conjuntos relacionados. Puedes comparar el comportamiento por tipo de clientes en diferentes momentos de la temporada alta.\n",
    "¿Cómo es el comportamiento por tipo de clientes según la temporada más baja?\n",
    "\n",
    "Prueba sugerida: Prueba de Friedman: Similar a la prueba anterior, pero aplicada a la temporada más baja.\n",
    "¿Cómo varía en promedio el uso de bicicletas mensualmente durante la temporada más alta?\n",
    "\n",
    "Prueba sugerida: Prueba de Friedman o Prueba de Cochran: Puedes usar una de estas pruebas para comparar las medias de múltiples grupos relacionados (meses en este caso).\n",
    "¿Cómo varía en promedio el uso de bicicletas mensualmente durante la temporada más baja?\n",
    "\n",
    "Prueba sugerida: Prueba de Friedman o Prueba de Cochran: Similar a la prueba anterior, pero aplicada a la temporada más baja.\n",
    "¿Cómo es el comportamiento por tipo de clientes el uso promedio de bicicletas durante los días de la semana de nuestra temporada de mayor frecuencia?\n",
    "\n",
    "Prueba sugerida: Prueba de Friedman o Prueba de Cochran: Puedes utilizar una de estas pruebas para comparar las medias de diferentes días de la semana durante la temporada de mayor frecuencia.\n",
    "¿Cómo es el comportamiento por tipo de clientes el uso promedio de bicicletas durante los días de la semana de nuestra temporada de menor frecuencia?\n",
    "\n",
    "Prueba sugerida: Prueba de Friedman o Prueba de Cochran: Similar a la prueba anterior, pero aplicada a la temporada de menor frecuencia."
   ]
  },
  {
   "cell_type": "code",
   "execution_count": null,
   "metadata": {},
   "outputs": [],
   "source": [
    "a = [3,4,5]\n",
    "b = [5,4,3]\n",
    "df = pd.DataFrame((a,b), columns=['a','b','c'])\n",
    "df['total'] = df['a'] + df['b'] + df['c']\n",
    "df"
   ]
  },
  {
   "cell_type": "code",
   "execution_count": null,
   "metadata": {},
   "outputs": [],
   "source": [
    "fig, axs = plt.subplots(nrows=1, ncols=1, figsize=(10, 5))\n",
    "x = dfH4['mnth']\n",
    "y = dfH4[['casual', 'registered']]\n",
    "axs[0].bar(x,y,color='#66FF00')\n",
    "axs[0].set_title('Verano')"
   ]
  },
  {
   "cell_type": "markdown",
   "metadata": {},
   "source": [
    "****"
   ]
  },
  {
   "cell_type": "code",
   "execution_count": null,
   "metadata": {},
   "outputs": [],
   "source": [
    "from math import pi\n",
    "import matplotlib.pyplot as plt\n",
    "\n",
    "meses2 = [3,2,1,12,12,11,10,9,9,8,7,6,6,5,4,3]\n",
    "\n",
    "N = len(meses2)\n",
    "\n",
    "angulos = [n / float(N) * 2 * pi for n in range(N)]\n",
    "\n",
    "print('meses', meses2)\n",
    "print('num_meses', len(meses2))\n",
    "print('angulos', angulos)\n",
    "print('num_angulos', len(angulos))\n",
    "print(np.degrees(angulos))"
   ]
  },
  {
   "cell_type": "code",
   "execution_count": null,
   "metadata": {},
   "outputs": [],
   "source": [
    "valores += valores[:1]\n",
    "angulos += angulos[:1]\n",
    "print(len(angulos))\n",
    "print(len(valores))"
   ]
  },
  {
   "cell_type": "code",
   "execution_count": null,
   "metadata": {},
   "outputs": [],
   "source": [
    "# plt.polar(angulos2, valores, color='g')\n",
    "\n",
    "fig, ax = plt.subplots(nrows=1, ncols=1, figsize=(8,8),\n",
    "                       subplot_kw=dict(polar=True))\n",
    "\n",
    "plt.xticks(angulos[:-1], meses2, color='grey', size=12)\n",
    "\n",
    "ax.plot(angulos, valores,linewidth=1, linestyle='solid' )\n",
    "ax.fill(angulos,valores, 'skyblue',alpha=0.4)\n",
    "\n",
    "plt.title('intentamos')"
   ]
  },
  {
   "cell_type": "markdown",
   "metadata": {},
   "source": [
    "***"
   ]
  },
  {
   "cell_type": "code",
   "execution_count": null,
   "metadata": {},
   "outputs": [],
   "source": [
    "import numpy as np\n",
    "\n",
    "meses = [3,2,1,12,12,11,10,9,9,8,7,6,6,5,4,3]\n",
    "\n",
    "valoresI = [cant for cant in df_pregunta1.query('season == 1')[\"cnt\"]]\n",
    "valoresP = [cant for cant in df_pregunta1.query('season == 2')[\"cnt\"]]\n",
    "valoresV = [cant for cant in df_pregunta1.query('season == 3')[\"cnt\"]]\n",
    "valoresO = [cant for cant in df_pregunta1.query('season == 4')[\"cnt\"]]\n",
    "\n",
    "print('valores', valoresI)\n",
    "print('valores', valoresP)\n",
    "print('valores', valoresV)\n",
    "print('valores', valoresO)\n",
    "print('meses',meses, 'largo', len(meses))"
   ]
  },
  {
   "cell_type": "code",
   "execution_count": null,
   "metadata": {},
   "outputs": [],
   "source": [
    "valorI = [ 87.67234042553191, 74.29121725731895, 55.50726744186046, 85.78544061302682]\n",
    "valorO = valoresO[::-1]\n",
    "valorV = valoresV[::-1]\n",
    "valorP = valoresP[::-1]"
   ]
  },
  {
   "cell_type": "code",
   "execution_count": null,
   "metadata": {},
   "outputs": [],
   "source": [
    "N = len(meses)\n",
    "\n",
    "angulos = [n / float(N) * 2 * np.pi for n in range(N)]\n",
    "\n",
    "print(angulos)\n",
    "print(len(angulos))\n",
    "print(np.degrees(angulos))"
   ]
  },
  {
   "cell_type": "code",
   "execution_count": null,
   "metadata": {},
   "outputs": [],
   "source": [
    "fig, ax = plt.subplots(nrows=1, ncols=1, figsize=(8,8),\n",
    "                       subplot_kw=dict(polar=True))\n",
    "\n",
    "plt.xticks(angulos, meses, color='grey', size=12)\n",
    "\n",
    "ax.plot(angulos[:4], valorI, linewidth=1, linestyle='solid' )\n",
    "ax.fill(angulos[:4], valorI, 'blue', alpha=0.4)\n",
    "\n",
    "ax.plot(angulos[4:8], valorO, linewidth=1, linestyle='solid' )\n",
    "ax.fill(angulos[4:8], valorO, 'orange', alpha=0.4)\n",
    "\n",
    "\n",
    "ax.plot(angulos[8:12], valorV, linewidth=1, linestyle='solid' )\n",
    "ax.fill(angulos[8:12], valorV,'yellow', alpha=0.4)\n",
    "\n",
    "\n",
    "ax.plot(angulos[12:], valorP, linewidth=1, linestyle='solid' )\n",
    "ax.fill(angulos[12:], valorP, 'green', alpha=0.4)\n",
    "\n",
    "plt.title('intentamos')"
   ]
  }
 ],
 "metadata": {
  "kernelspec": {
   "display_name": "Python 3",
   "language": "python",
   "name": "python3"
  },
  "language_info": {
   "codemirror_mode": {
    "name": "ipython",
    "version": 3
   },
   "file_extension": ".py",
   "mimetype": "text/x-python",
   "name": "python",
   "nbconvert_exporter": "python",
   "pygments_lexer": "ipython3",
   "version": "3.11.7"
  }
 },
 "nbformat": 4,
 "nbformat_minor": 2
}
